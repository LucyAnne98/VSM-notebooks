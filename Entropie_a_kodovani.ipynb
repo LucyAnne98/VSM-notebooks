{
 "cells": [
  {
   "cell_type": "markdown",
   "id": "proprietary-hacker",
   "metadata": {},
   "source": [
    "# Entropie a kódování"
   ]
  },
  {
   "cell_type": "code",
   "execution_count": 1,
   "id": "liberal-lodge",
   "metadata": {},
   "outputs": [],
   "source": [
    "from collections import Counter\n",
    "import math\n",
    "\n",
    "from IPython.display import Image\n",
    "import numpy as np\n",
    "from numpy.linalg import inv\n",
    "import scipy.linalg as la\n",
    "import scipy.stats as st"
   ]
  },
  {
   "cell_type": "code",
   "execution_count": 2,
   "id": "improving-fiction",
   "metadata": {},
   "outputs": [],
   "source": [
    "from fractions import Fraction\n",
    "# pozor může být nepřesné\n",
    "def vystup_zlomky(matrix):\n",
    "    for i in range(matrix.shape[0]):\n",
    "        row = \"\"\n",
    "        for j in range(matrix.shape[1]):\n",
    "            row += str(Fraction(matrix[i, j]).limit_denominator())\n",
    "            row += \"\\t\"\n",
    "        print(row)"
   ]
  },
  {
   "cell_type": "markdown",
   "id": "happy-charger",
   "metadata": {},
   "source": [
    "# Entropie\n",
    "\n",
    "Pokud dáváte matici, musí být prvky $p(x,y)$, ne $p(x|y)$.\n",
    "\n",
    "## Entropie\n",
    "\n",
    "https://marast.fit.cvut.cz/cs/problems/10194\n",
    "\n",
    "$$H(X)=-\\sum_{x \\in \\mathcal{X}} p(x) \\log p(x)$$"
   ]
  },
  {
   "cell_type": "code",
   "execution_count": 3,
   "id": "rural-cartoon",
   "metadata": {},
   "outputs": [
    {
     "name": "stdout",
     "output_type": "stream",
     "text": [
      "H(X) = 3/2 = 1.5\n"
     ]
    }
   ],
   "source": [
    "# DATA\n",
    "\n",
    "# TODO: NASTAVIT\n",
    "matice = np.matrix([\n",
    "    [1/4, 1/8, 1/2, 1/8]\n",
    "])\n",
    "# x\\y\n",
    "matice = np.matrix([\n",
    "    [1/8, 1/16, 1/32, 1/32],\n",
    "    [1/16, 1/8, 1/32, 1/32],\n",
    "    [1/16, 1/16, 1/16, 1/16],\n",
    "    [1/4, 0, 0, 0],\n",
    "])\n",
    "matice = np.matrix([\n",
    "    [1/16, 1/16, 1/8],\n",
    "    [1/8, 1/16, 1/16],\n",
    "    [1/8, 1/4, 1/8],\n",
    "])\n",
    "osa = 1 # 0 = H(Y) ... sečíst sloupce, 1 = H(X) ... sečíst řádky\n",
    "\n",
    "# PROGRAM\n",
    "def entropie(matrix, axis):\n",
    "    p = np.squeeze(np.asarray(np.sum(matrix, axis = axis)))\n",
    "    result = 0\n",
    "    for i in range(p.size):\n",
    "        if p[i] == 0:\n",
    "            continue\n",
    "        result += p[i] * math.log(p[i], 2)\n",
    "    return -result\n",
    "\n",
    "_res = entropie(matice, osa)\n",
    "print(\"H(X) =\", Fraction(_res).limit_denominator(), \"=\", _res)"
   ]
  },
  {
   "cell_type": "markdown",
   "id": "cognitive-latino",
   "metadata": {},
   "source": [
    "## Sdružená entropie\n",
    "\n",
    "https://marast.fit.cvut.cz/cs/problems/10194\n",
    "\n",
    "Sdružená entropie $H(X, Y)$ diskrétních náhodných veličin $X, Y$ se sdruženým\n",
    "rozdělením $p(x, y)$ je definována jako\n",
    "\n",
    "$$H(Y, X) = - \\sum_{x \\in \\mathcal{X}} \\sum_{y \\in \\mathcal{Y}} p(x, y) \\log p(y, x)$$"
   ]
  },
  {
   "cell_type": "code",
   "execution_count": 4,
   "id": "relative-formation",
   "metadata": {},
   "outputs": [
    {
     "name": "stdout",
     "output_type": "stream",
     "text": [
      "H(X, Y) = 27/8 = 3.375\n"
     ]
    }
   ],
   "source": [
    "# DATA\n",
    "\n",
    "# TODO: NASTAVIT\n",
    "# x\\y\n",
    "matice = np.matrix([\n",
    "    [1/8, 1/16, 1/32, 1/32],\n",
    "    [1/16, 1/8, 1/32, 1/32],\n",
    "    [1/16, 1/16, 1/16, 1/16],\n",
    "    [1/4, 0, 0, 0],\n",
    "])\n",
    "\n",
    "# PROGRAM\n",
    "def sdruzena_entropie(matrix):\n",
    "    result = 0\n",
    "    for i in range(matrix.shape[0]):\n",
    "        for j in range(matrix.shape[1]):\n",
    "            if matrix[i, j] == 0:\n",
    "                continue\n",
    "            result += matrix[i, j] * np.log2(matrix[i, j])\n",
    "    \n",
    "    return -result\n",
    "\n",
    "_res = sdruzena_entropie(matice)\n",
    "print(\"H(X, Y) =\", Fraction(_res).limit_denominator(), \"=\", _res)"
   ]
  },
  {
   "cell_type": "markdown",
   "id": "final-digest",
   "metadata": {},
   "source": [
    "## Podmíněná entropie\n",
    "\n",
    "https://marast.fit.cvut.cz/cs/problems/10195\n",
    "\n",
    "Podmíněná entropie $H(Y|X)$ diskrétních náhodných veličin $X, Y$ se sdruženým\n",
    "rozdělením $p(x, y)$ je definována jako\n",
    "\n",
    "$$H(Y | X) = - \\sum_{x \\in \\mathcal{X}} \\sum_{y \\in \\mathcal{Y}} p(x, y) \\log p(y | x)$$\n",
    "\n",
    "kde $p(y|x) = \\frac{p(x, y)}{p(X)}$."
   ]
  },
  {
   "cell_type": "code",
   "execution_count": 5,
   "id": "equipped-visiting",
   "metadata": {},
   "outputs": [
    {
     "name": "stdout",
     "output_type": "stream",
     "text": [
      "H(X|Y) = 13/8 = 1.625\n"
     ]
    }
   ],
   "source": [
    "# DATA\n",
    "\n",
    "# TODO: NASTAVIT\n",
    "# H(X|Y) ... řádky x, sloupce y\n",
    "# x\\y\n",
    "matice = np.matrix([\n",
    "    [1/8, 1/16, 1/32, 1/32],\n",
    "    [1/16, 1/8, 1/32, 1/32],\n",
    "    [1/16, 1/16, 1/16, 1/16],\n",
    "    [1/4, 0, 0, 0],\n",
    "])\n",
    "#matice = np.transpose(matice) # TODO: pokud chceš H(Y|X)\n",
    "\n",
    "# PROGRAM\n",
    "def podminena_entropie(matrix, axis):\n",
    "    p_y = np.squeeze(np.asarray(np.sum(matrix, axis = 0)))\n",
    "\n",
    "    result = 0\n",
    "    for i in range(matrix.shape[0]):\n",
    "        for j in range(matrix.shape[1]):\n",
    "            if matrix[i, j] == 0:\n",
    "                continue\n",
    "            p_xy = matrix[i, j]\n",
    "            p_y_con_x = p_xy / p_y[j]\n",
    "            result += p_xy * np.log2(p_y_con_x)\n",
    "    \n",
    "    return -result\n",
    "\n",
    "_res = podminena_entropie(matice, 0)\n",
    "print(\"H(X|Y) =\", Fraction(_res).limit_denominator(), \"=\", _res)"
   ]
  },
  {
   "cell_type": "markdown",
   "id": "cardiac-democracy",
   "metadata": {},
   "source": [
    "## Relativní entropie\n",
    "\n",
    "https://marast.fit.cvut.cz/cs/problems/10196\n",
    "\n",
    "Relativní entropie nebo Kullback-Leiblerova vzdálenost $D(p||q)$ mezi diskrétním\n",
    "rozdělením $p$ a diskrétním rozdělením $q$ na množině $X$ je definována vztahem\n",
    "\n",
    "$$D(p \\| q)=\\sum_{x \\in \\mathcal{X}} p(x) \\log \\frac{p(x)}{q(x)}$$\n",
    "\n",
    "- Klademe $0 \\log{\\frac{0}{0}} = 0, 0 \\log{\\frac{0}{q}} = 0$ a $p \\log{\\frac{p}{0}} = + \\infty$.\n",
    "- Pokud tedy existuje $x$ tak, že $p(x) > 0$ a $q(x) = 0$, platí $D(p||q) = + \\infty$.\n",
    "- $D(p||q)$ lze chápat jako vzdálenost, protože jak uvidíme později, je vždy nezáporná a\n",
    "rovna 0 pouze, pokud jsou $p$ a $q$ stejné.\n",
    "- Na rozdíl od opravdové vzdálenosti ale $D(p||q)$ obecně **není** rovno $D(q||p)$ a ani trojúhelníková nerovnost neplatí."
   ]
  },
  {
   "cell_type": "code",
   "execution_count": 6,
   "id": "small-liquid",
   "metadata": {},
   "outputs": [
    {
     "name": "stdout",
     "output_type": "stream",
     "text": [
      "D(p||q) = 262127/391516 = 0.6695179762781595\n"
     ]
    }
   ],
   "source": [
    "# DATA\n",
    "\n",
    "# TODO: NASTAVIT\n",
    "p = np.array([1/4, 1/4, 1/4, 1/4])\n",
    "q = np.array([5/8, 1/4, 1/16, 1/16])\n",
    "\n",
    "# PROGRAM\n",
    "def relativni_entropie(p, q):\n",
    "    result = 0\n",
    "    for i in range(p.size):\n",
    "        result += p[i] * math.log2(p[i] / q[i])\n",
    "    return result\n",
    "\n",
    "_res = relativni_entropie(p, q)\n",
    "print(\"D(p||q) =\", Fraction(_res).limit_denominator(), \"=\", _res)"
   ]
  },
  {
   "cell_type": "markdown",
   "id": "considered-assembly",
   "metadata": {},
   "source": [
    "## Vzájemná informace\n",
    "\n",
    "https://marast.fit.cvut.cz/cs/problems/10197\n",
    "\n",
    "Vzájemná informace $I(X; Y )$ diskrétních náhodných veličin $X$ a $Y$ je definována vztahem\n",
    "\n",
    "$$I(X;Y)=\\sum_{x \\in \\mathcal{X}}\\sum_{y \\in \\mathcal{Y}} p(x, y) \\log \\frac{p(x,y)}{p(x) p(y)}$$\n",
    "\n",
    "- Jedná se tedy o relativní entropii skutečného sdruženého rozdělení a rozdělení nezávislých veličin se stejnými marginálami,\n",
    "\n",
    "$$I(X;Y)=D(p(x,y) || p(x)p(y))$$\n",
    "\n",
    "- Ze symetrie definičního vztahu plyne $I(X;Y) = I(Y;X)$\n",
    "- Jak uvidíme za chvíli, z nezápornosti relativní entropie plyne $I(X;Y) \\ge 0$."
   ]
  },
  {
   "cell_type": "code",
   "execution_count": 7,
   "id": "applicable-patient",
   "metadata": {},
   "outputs": [
    {
     "name": "stdout",
     "output_type": "stream",
     "text": [
      "I(X;Y) = 3/8 = 0.375\n"
     ]
    }
   ],
   "source": [
    "# DATA\n",
    "\n",
    "# TODO: NASTAVIT\n",
    "# x\\y\n",
    "matice = np.matrix([\n",
    "    [1/8, 1/16, 1/32, 1/32],\n",
    "    [1/16, 1/8, 1/32, 1/32],\n",
    "    [1/16, 1/16, 1/16, 1/16],\n",
    "    [1/4, 0, 0, 0],\n",
    "])\n",
    "\n",
    "# PROGRAM\n",
    "def vzajemna_informace(matrix):\n",
    "    p_x = np.squeeze(np.asarray(np.sum(matrix, axis = 0)))\n",
    "    p_y = np.squeeze(np.asarray(np.sum(matrix, axis = 1)))\n",
    "\n",
    "    result = 0\n",
    "    for i in range(matrix.shape[0]):\n",
    "        for j in range(matrix.shape[1]):\n",
    "            if matrix[i, j] == 0:\n",
    "                continue\n",
    "            p_xy = matrix[i, j]\n",
    "            p_xy_x_y = p_xy / (p_x[j] * p_y[i])\n",
    "            result += p_xy * np.log2(p_xy_x_y)\n",
    "    \n",
    "    return result\n",
    "\n",
    "_res = vzajemna_informace(matice)\n",
    "print(\"I(X;Y) =\", Fraction(_res).limit_denominator(), \"=\", _res)"
   ]
  },
  {
   "cell_type": "markdown",
   "id": "removed-mission",
   "metadata": {},
   "source": [
    "# Kódování"
   ]
  },
  {
   "cell_type": "markdown",
   "id": "bizarre-testimony",
   "metadata": {},
   "source": [
    "## Střední délka kódu\n",
    "\n",
    "Střední délku $L(C)$ kódu $C$ náhodné veličiny $X$ s rozdělením $p(x)$ definujeme jako\n",
    "\n",
    "$$L(C) = \\sum_{x \\in \\chi}{l(p)p(x)}$$\n",
    "\n",
    "kde $l(x)$ je délka kódového slova příslušejícího prvku $x \\in \\chi$."
   ]
  },
  {
   "cell_type": "code",
   "execution_count": 8,
   "id": "automotive-novelty",
   "metadata": {},
   "outputs": [
    {
     "name": "stdout",
     "output_type": "stream",
     "text": [
      "L(C) = 21/8 = 2.625\n",
      "H(x) = 19/8 = 2.375\n",
      "platí H(X) <= L(C) <= H(X) + 1\n"
     ]
    }
   ],
   "source": [
    "# DATA\n",
    "\n",
    "# TODO: NASTAVIT\n",
    "k = 2 # báze kódování\n",
    "slova = np.array([\"11110\", \"11111\", \"0\", \"10\", \"1110\", \"110\"])\n",
    "pst   = np.array([1/16, 1/16, 1/4, 1/4, 1/8, 1/4])\n",
    "\n",
    "# PROGRAM\n",
    "def stredni_delka_kodu(slova, pst, k):\n",
    "    result = 0\n",
    "\n",
    "    for i in range(slova.size):\n",
    "        result += len(slova[i]) * pst[i]\n",
    "\n",
    "    return result\n",
    "\n",
    "_res = stredni_delka_kodu(slova, pst, k)\n",
    "print(\"L(C) =\", Fraction(_res).limit_denominator(), \"=\", _res)\n",
    "_e = entropie(np.matrix([pst]), 0)\n",
    "print(\"H(x) =\", Fraction(_e).limit_denominator(), \"=\", _e)\n",
    "print(\"platí H(X) <= L(C) <= H(X) + 1\" if _e <= _res <= _e + 1 else \"neplatí H(X) <= L(C) <= H(X) + 1\")"
   ]
  },
  {
   "cell_type": "markdown",
   "id": "funky-indie",
   "metadata": {},
   "source": [
    "# Dekódování zprávy"
   ]
  },
  {
   "cell_type": "code",
   "execution_count": 9,
   "id": "effective-radius",
   "metadata": {},
   "outputs": [
    {
     "name": "stdout",
     "output_type": "stream",
     "text": [
      "původní zpráva = [1, 3, 4, 2, 1, 3]\n"
     ]
    }
   ],
   "source": [
    "# DATA\n",
    "\n",
    "# TODO: NASTAVIT\n",
    "nahodna_velicina = np.array([1, 2, 3, 4])\n",
    "slova = np.array([\"0\", \"10\", \"110\", \"111\"])\n",
    "zprava = \"0110111100110\"\n",
    "\n",
    "# PROGRAM\n",
    "def dekodovat_zpravu(nahodna_velicina, slova, zprava):\n",
    "    result = []\n",
    "    tmp = \"\"\n",
    "\n",
    "    for i in range(len(zprava)):\n",
    "        tmp += zprava[i]\n",
    "        itemindex = np.where(slova==tmp)\n",
    "        if itemindex[0].size != 0:\n",
    "            result.append(nahodna_velicina[itemindex[0][0]])\n",
    "            tmp = \"\"\n",
    "\n",
    "    return result\n",
    "\n",
    "_res = dekodovat_zpravu(nahodna_velicina, slova, zprava)\n",
    "print(\"původní zpráva =\", _res)"
   ]
  },
  {
   "cell_type": "markdown",
   "id": "champion-outline",
   "metadata": {},
   "source": [
    "## Huffmanovo kódování\n",
    "\n",
    "https://marast.fit.cvut.cz/cs/problems/10190\n",
    "\n",
    "- Optimální kód."
   ]
  },
  {
   "cell_type": "code",
   "execution_count": 10,
   "id": "median-sport",
   "metadata": {},
   "outputs": [
    {
     "name": "stdout",
     "output_type": "stream",
     "text": [
      "huffmanovo kódování = {'p': '11', 'k': '10', 'b': '0111', 'm': '0110', 'h': '010', 'o': '00'}\n"
     ]
    }
   ],
   "source": [
    "# DATA\n",
    "\n",
    "# TODO: NASTAVIT\n",
    "x_chars = \"m\" * 5 + \"b\" * 5 + \"h\" * 15 + \"k\" * 20 + \"p\" * 20 + \"o\" * 35 # string s počty znaků dle poměru pst\n",
    "\n",
    "# PROGRAM\n",
    "x_chars = Counter(x_chars)\n",
    "# Recursively builds code from binary tree\n",
    "def build_encoding_from_tree(tree, code = ''):\n",
    "    # either tuple or string (tree list)\n",
    "    if type(tree) == str:\n",
    "        return {tree: code}\n",
    "\n",
    "    # recursion\n",
    "    left = build_encoding_from_tree(tree[0], code + '1')\n",
    "    right = build_encoding_from_tree(tree[1], code + '0')\n",
    "\n",
    "    # Unpact left and right dicts\n",
    "    return {**left, **right}\n",
    "\n",
    "# Parses char: count dictionary to binary tree\n",
    "def parse_characters_to_tree(chars_counter):\n",
    "    tree = chars_counter.most_common()[::-1]\n",
    "\n",
    "    while len(tree) > 1:\n",
    "        # sort\n",
    "        tree.sort(key=lambda elem: elem[1])\n",
    "\n",
    "        # get first and second worst (that is least common) chars\n",
    "        first_worst = tree[0]\n",
    "        second_worst = tree[1]\n",
    "        rest = tree[2:]\n",
    "\n",
    "        # concat first and second worst chars\n",
    "        # [(char_1, char_2), value_1 + value_2] + rest of the list\n",
    "        tree = [((first_worst[0], second_worst[0]), first_worst[1] + second_worst[1])] + rest\n",
    "\n",
    "    # root of parsed tree\n",
    "    return tree[0][0]\n",
    "\n",
    "# Get encoding map\n",
    "def get_encoding(chars_counter):\n",
    "    return build_encoding_from_tree(parse_characters_to_tree(chars_counter))\n",
    "\n",
    "_res = get_encoding(x_chars)\n",
    "print(\"huffmanovo kódování =\", _res)"
   ]
  },
  {
   "cell_type": "code",
   "execution_count": null,
   "id": "radio-compound",
   "metadata": {},
   "outputs": [],
   "source": []
  }
 ],
 "metadata": {
  "kernelspec": {
   "display_name": "Python 3",
   "language": "python",
   "name": "python3"
  },
  "language_info": {
   "codemirror_mode": {
    "name": "ipython",
    "version": 3
   },
   "file_extension": ".py",
   "mimetype": "text/x-python",
   "name": "python",
   "nbconvert_exporter": "python",
   "pygments_lexer": "ipython3",
   "version": "3.9.5"
  }
 },
 "nbformat": 4,
 "nbformat_minor": 5
}
