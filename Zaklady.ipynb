{
 "cells": [
  {
   "cell_type": "markdown",
   "id": "equivalent-surgeon",
   "metadata": {},
   "source": [
    "# Základy"
   ]
  },
  {
   "cell_type": "code",
   "execution_count": 2,
   "id": "naked-valuable",
   "metadata": {},
   "outputs": [],
   "source": [
    "from collections import Counter\n",
    "import math\n",
    "\n",
    "from IPython.display import Image\n",
    "import numpy as np\n",
    "from numpy.linalg import inv\n",
    "import scipy.linalg as la\n",
    "import scipy.stats as st"
   ]
  },
  {
   "cell_type": "markdown",
   "id": "standard-jewelry",
   "metadata": {},
   "source": [
    "## Střední hodnota\n",
    "\n",
    "střední hodnota EX pro diskrétní náhodnou veličinu\n",
    "\n",
    "$$ EX = \\sum_k x_k \\cdot P(X = x_k) $$\n",
    "\n",
    "\n",
    "střední hodnota EX pro spojitou náhodnou veličinu\n",
    "\n",
    "\n",
    "$$ EX = \\int_{=\\infty}^{\\infty} x f_X(x) dx $$\n",
    "\n",
    "\n",
    "Linearita střední hodnoty\n",
    "\n",
    "$$E(aX + bY +c) = aEX + bEY +c$$\n",
    "\n",
    "\n",
    "Pokud $ EY = Eg(X)$, můžeme $EY$ vypočítat následovně:\n",
    "\n",
    "Pokud $X$ má diskrétní rozdělení:\n",
    "\n",
    "$$ EY = Eg(X) = \\sum_{k} g(x_k) = P(X = x_k)$$\n",
    "\n",
    "jinak\n",
    "\n",
    "$$ EY = Eg(X) = \\int_{-\\infty}^{\\infty} g(x_k) f_X(x) dx$$\n",
    "\n",
    "\n",
    "\n",
    "## Rozptyl\n",
    "\n",
    "$$var(X) = EX^2 - (EX)^2$$\n",
    "\n",
    "$$var(X \\pm Y) = var(X) \\pm var(Y) +2cov(X, Y)$$\n",
    "\n",
    "$$var(aX + b) = a^2 var(X) $$\n",
    "\n",
    "## Kovariance\n",
    "\n",
    "$$cov(X, Y) = EXY - EXEY$$\n",
    "\n",
    "$$cov(X, Y) = cov(Y, X)$$\n",
    "\n",
    "$$cov(aX +b, Y) = a\\cdot cov(X, Y)$$\n",
    "\n",
    "$$cov(X+Y, Z) = cov(X, Z) + cov(Y, Z)$$\n",
    "\n",
    "$$cov(X, X) = var(X)$$\n",
    "\n",
    "$X, Y$ jsou nezávisle $\\implies cov(X,Y) = 0$, ale ne naopak\n"
   ]
  },
  {
   "cell_type": "markdown",
   "id": "found-disclosure",
   "metadata": {},
   "source": [
    "## Rozdělení"
   ]
  },
  {
   "cell_type": "markdown",
   "id": "spanish-declaration",
   "metadata": {},
   "source": [
    "### Uniformní\n",
    "\n",
    "$$X \\sim Unif(a, b)$$\n",
    "\n",
    "\n",
    "Hustota\n",
    "$$f_X(x) = 0, \\text{ pokud } x \\not \\in [a, b]$$\n",
    "\n",
    "$$f_X(x) = \\frac{1}{b-a}, \\text{ pokud } x \\in [a, b]$$\n"
   ]
  },
  {
   "cell_type": "markdown",
   "id": "separate-authority",
   "metadata": {},
   "source": [
    "### Exponenciální\n",
    "\n",
    "\n",
    "$$X \\sim Exp(\\lambda)$$\n",
    "\n",
    "Střední hodnota\n",
    "\n",
    "$$ EX = \\frac{1}{\\lambda}$$\n",
    "\n",
    "\n",
    "Hustota\n",
    "\n",
    "$$ f_X(x) = \\lambda e^{-\\lambda x}, \\text{ pokud } x \\ge 0 $$\n",
    "$$ f_X(x) = 0, \\text{jinak} $$\n",
    "\n",
    "Distribuční funkce\n",
    "\n",
    "$$ F_X(x) = 1 - e^{- \\lambda x}$$\n",
    "\n",
    "Funkce přežití \n",
    "\n",
    "\n",
    "$$ e^{- \\lambda x}$$"
   ]
  },
  {
   "cell_type": "markdown",
   "id": "golden-median",
   "metadata": {},
   "source": [
    "# Varianční matice náhodného vektoru $Z = (X, Y)^T$\n",
    "\n",
    "https://marast.fit.cvut.cz/cs/problems/10186\n",
    "\n",
    "$$\\textbf{var Z} = \n",
    "\\begin{pmatrix}\n",
    "\\textbf{var X} & \\textbf{cov(X,Y)} \\\\\n",
    "\\textbf{cov(Y,X)} & \\textbf{var Y}\n",
    "\\end{pmatrix}\n",
    "$$"
   ]
  },
  {
   "cell_type": "code",
   "execution_count": null,
   "id": "super-slovak",
   "metadata": {},
   "outputs": [],
   "source": []
  }
 ],
 "metadata": {
  "kernelspec": {
   "display_name": "Python 3",
   "language": "python",
   "name": "python3"
  },
  "language_info": {
   "codemirror_mode": {
    "name": "ipython",
    "version": 3
   },
   "file_extension": ".py",
   "mimetype": "text/x-python",
   "name": "python",
   "nbconvert_exporter": "python",
   "pygments_lexer": "ipython3",
   "version": "3.9.5"
  }
 },
 "nbformat": 4,
 "nbformat_minor": 5
}
